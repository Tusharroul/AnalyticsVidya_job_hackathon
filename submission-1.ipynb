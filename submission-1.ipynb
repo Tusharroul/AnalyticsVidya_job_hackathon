{
 "cells": [
  {
   "cell_type": "markdown",
   "metadata": {},
   "source": [
    "## Analytics vidya - Credit Card Lead Prediction"
   ]
  },
  {
   "cell_type": "markdown",
   "metadata": {},
   "source": [
    "#### Importing used libraries"
   ]
  },
  {
   "cell_type": "code",
   "execution_count": 1,
   "metadata": {},
   "outputs": [],
   "source": [
    "import logging\n",
    "\n",
    "import pandas as pd\n",
    "import numpy as np\n",
    "import xgboost as xgb\n",
    "\n",
    "from pprint import pprint\n",
    "from sklearn import metrics\n",
    "from sklearn.utils import resample\n",
    "from sklearn.model_selection import train_test_split"
   ]
  },
  {
   "cell_type": "code",
   "execution_count": 2,
   "metadata": {},
   "outputs": [],
   "source": [
    "import matplotlib.pyplot as plt\n",
    "import numpy as np\n",
    "import seaborn as sns"
   ]
  },
  {
   "cell_type": "markdown",
   "metadata": {},
   "source": [
    "#### Configuring logging"
   ]
  },
  {
   "cell_type": "code",
   "execution_count": 3,
   "metadata": {},
   "outputs": [
    {
     "name": "stderr",
     "output_type": "stream",
     "text": [
      "INFO:root:test\n"
     ]
    }
   ],
   "source": [
    "logger = logging.getLogger()\n",
    "logger.setLevel(logging.INFO)\n",
    "logging.info(\"test\")"
   ]
  },
  {
   "cell_type": "markdown",
   "metadata": {},
   "source": [
    "#### Reading data"
   ]
  },
  {
   "cell_type": "code",
   "execution_count": 4,
   "metadata": {},
   "outputs": [],
   "source": [
    "submission_data = pd.read_csv(\"test_mSzZ8RL.csv\")\n",
    "data = pd.read_csv(\"train_s3TEQDk.csv\")"
   ]
  },
  {
   "cell_type": "markdown",
   "metadata": {},
   "source": [
    "#### Data exploration"
   ]
  },
  {
   "cell_type": "code",
   "execution_count": 5,
   "metadata": {},
   "outputs": [
    {
     "data": {
      "text/plain": [
       "ID                     object\n",
       "Gender                 object\n",
       "Age                     int64\n",
       "Region_Code            object\n",
       "Occupation             object\n",
       "Channel_Code           object\n",
       "Vintage                 int64\n",
       "Credit_Product         object\n",
       "Avg_Account_Balance     int64\n",
       "Is_Active              object\n",
       "Is_Lead                 int64\n",
       "dtype: object"
      ]
     },
     "execution_count": 5,
     "metadata": {},
     "output_type": "execute_result"
    }
   ],
   "source": [
    "data.dtypes"
   ]
  },
  {
   "cell_type": "code",
   "execution_count": 6,
   "metadata": {},
   "outputs": [
    {
     "data": {
      "text/html": [
       "<div>\n",
       "<style scoped>\n",
       "    .dataframe tbody tr th:only-of-type {\n",
       "        vertical-align: middle;\n",
       "    }\n",
       "\n",
       "    .dataframe tbody tr th {\n",
       "        vertical-align: top;\n",
       "    }\n",
       "\n",
       "    .dataframe thead th {\n",
       "        text-align: right;\n",
       "    }\n",
       "</style>\n",
       "<table border=\"1\" class=\"dataframe\">\n",
       "  <thead>\n",
       "    <tr style=\"text-align: right;\">\n",
       "      <th></th>\n",
       "      <th>ID</th>\n",
       "      <th>Gender</th>\n",
       "      <th>Age</th>\n",
       "      <th>Region_Code</th>\n",
       "      <th>Occupation</th>\n",
       "      <th>Channel_Code</th>\n",
       "      <th>Vintage</th>\n",
       "      <th>Credit_Product</th>\n",
       "      <th>Avg_Account_Balance</th>\n",
       "      <th>Is_Active</th>\n",
       "      <th>Is_Lead</th>\n",
       "    </tr>\n",
       "  </thead>\n",
       "  <tbody>\n",
       "    <tr>\n",
       "      <th>0</th>\n",
       "      <td>NNVBBKZB</td>\n",
       "      <td>Female</td>\n",
       "      <td>73</td>\n",
       "      <td>RG268</td>\n",
       "      <td>Other</td>\n",
       "      <td>X3</td>\n",
       "      <td>43</td>\n",
       "      <td>No</td>\n",
       "      <td>1045696</td>\n",
       "      <td>No</td>\n",
       "      <td>0</td>\n",
       "    </tr>\n",
       "    <tr>\n",
       "      <th>1</th>\n",
       "      <td>IDD62UNG</td>\n",
       "      <td>Female</td>\n",
       "      <td>30</td>\n",
       "      <td>RG277</td>\n",
       "      <td>Salaried</td>\n",
       "      <td>X1</td>\n",
       "      <td>32</td>\n",
       "      <td>No</td>\n",
       "      <td>581988</td>\n",
       "      <td>No</td>\n",
       "      <td>0</td>\n",
       "    </tr>\n",
       "    <tr>\n",
       "      <th>2</th>\n",
       "      <td>HD3DSEMC</td>\n",
       "      <td>Female</td>\n",
       "      <td>56</td>\n",
       "      <td>RG268</td>\n",
       "      <td>Self_Employed</td>\n",
       "      <td>X3</td>\n",
       "      <td>26</td>\n",
       "      <td>No</td>\n",
       "      <td>1484315</td>\n",
       "      <td>Yes</td>\n",
       "      <td>0</td>\n",
       "    </tr>\n",
       "    <tr>\n",
       "      <th>3</th>\n",
       "      <td>BF3NC7KV</td>\n",
       "      <td>Male</td>\n",
       "      <td>34</td>\n",
       "      <td>RG270</td>\n",
       "      <td>Salaried</td>\n",
       "      <td>X1</td>\n",
       "      <td>19</td>\n",
       "      <td>No</td>\n",
       "      <td>470454</td>\n",
       "      <td>No</td>\n",
       "      <td>0</td>\n",
       "    </tr>\n",
       "    <tr>\n",
       "      <th>4</th>\n",
       "      <td>TEASRWXV</td>\n",
       "      <td>Female</td>\n",
       "      <td>30</td>\n",
       "      <td>RG282</td>\n",
       "      <td>Salaried</td>\n",
       "      <td>X1</td>\n",
       "      <td>33</td>\n",
       "      <td>No</td>\n",
       "      <td>886787</td>\n",
       "      <td>No</td>\n",
       "      <td>0</td>\n",
       "    </tr>\n",
       "  </tbody>\n",
       "</table>\n",
       "</div>"
      ],
      "text/plain": [
       "         ID  Gender  Age Region_Code     Occupation Channel_Code  Vintage  \\\n",
       "0  NNVBBKZB  Female   73       RG268          Other           X3       43   \n",
       "1  IDD62UNG  Female   30       RG277       Salaried           X1       32   \n",
       "2  HD3DSEMC  Female   56       RG268  Self_Employed           X3       26   \n",
       "3  BF3NC7KV    Male   34       RG270       Salaried           X1       19   \n",
       "4  TEASRWXV  Female   30       RG282       Salaried           X1       33   \n",
       "\n",
       "  Credit_Product  Avg_Account_Balance Is_Active  Is_Lead  \n",
       "0             No              1045696        No        0  \n",
       "1             No               581988        No        0  \n",
       "2             No              1484315       Yes        0  \n",
       "3             No               470454        No        0  \n",
       "4             No               886787        No        0  "
      ]
     },
     "execution_count": 6,
     "metadata": {},
     "output_type": "execute_result"
    }
   ],
   "source": [
    "data.head()"
   ]
  },
  {
   "cell_type": "code",
   "execution_count": 7,
   "metadata": {},
   "outputs": [
    {
     "data": {
      "text/html": [
       "<div>\n",
       "<style scoped>\n",
       "    .dataframe tbody tr th:only-of-type {\n",
       "        vertical-align: middle;\n",
       "    }\n",
       "\n",
       "    .dataframe tbody tr th {\n",
       "        vertical-align: top;\n",
       "    }\n",
       "\n",
       "    .dataframe thead th {\n",
       "        text-align: right;\n",
       "    }\n",
       "</style>\n",
       "<table border=\"1\" class=\"dataframe\">\n",
       "  <thead>\n",
       "    <tr style=\"text-align: right;\">\n",
       "      <th></th>\n",
       "      <th>Age</th>\n",
       "      <th>Vintage</th>\n",
       "      <th>Avg_Account_Balance</th>\n",
       "    </tr>\n",
       "  </thead>\n",
       "  <tbody>\n",
       "    <tr>\n",
       "      <th>count</th>\n",
       "      <td>245725.000000</td>\n",
       "      <td>245725.000000</td>\n",
       "      <td>2.457250e+05</td>\n",
       "    </tr>\n",
       "    <tr>\n",
       "      <th>mean</th>\n",
       "      <td>43.856307</td>\n",
       "      <td>46.959141</td>\n",
       "      <td>1.128403e+06</td>\n",
       "    </tr>\n",
       "    <tr>\n",
       "      <th>std</th>\n",
       "      <td>14.828672</td>\n",
       "      <td>32.353136</td>\n",
       "      <td>8.529364e+05</td>\n",
       "    </tr>\n",
       "    <tr>\n",
       "      <th>min</th>\n",
       "      <td>23.000000</td>\n",
       "      <td>7.000000</td>\n",
       "      <td>2.079000e+04</td>\n",
       "    </tr>\n",
       "    <tr>\n",
       "      <th>25%</th>\n",
       "      <td>30.000000</td>\n",
       "      <td>20.000000</td>\n",
       "      <td>6.043100e+05</td>\n",
       "    </tr>\n",
       "    <tr>\n",
       "      <th>50%</th>\n",
       "      <td>43.000000</td>\n",
       "      <td>32.000000</td>\n",
       "      <td>8.946010e+05</td>\n",
       "    </tr>\n",
       "    <tr>\n",
       "      <th>75%</th>\n",
       "      <td>54.000000</td>\n",
       "      <td>73.000000</td>\n",
       "      <td>1.366666e+06</td>\n",
       "    </tr>\n",
       "    <tr>\n",
       "      <th>max</th>\n",
       "      <td>85.000000</td>\n",
       "      <td>135.000000</td>\n",
       "      <td>1.035201e+07</td>\n",
       "    </tr>\n",
       "  </tbody>\n",
       "</table>\n",
       "</div>"
      ],
      "text/plain": [
       "                 Age        Vintage  Avg_Account_Balance\n",
       "count  245725.000000  245725.000000         2.457250e+05\n",
       "mean       43.856307      46.959141         1.128403e+06\n",
       "std        14.828672      32.353136         8.529364e+05\n",
       "min        23.000000       7.000000         2.079000e+04\n",
       "25%        30.000000      20.000000         6.043100e+05\n",
       "50%        43.000000      32.000000         8.946010e+05\n",
       "75%        54.000000      73.000000         1.366666e+06\n",
       "max        85.000000     135.000000         1.035201e+07"
      ]
     },
     "execution_count": 7,
     "metadata": {},
     "output_type": "execute_result"
    }
   ],
   "source": [
    "data[[\"Age\",\"Vintage\",\"Avg_Account_Balance\"]].describe()"
   ]
  },
  {
   "cell_type": "code",
   "execution_count": 8,
   "metadata": {},
   "outputs": [
    {
     "data": {
      "text/plain": [
       "<matplotlib.axes._subplots.AxesSubplot at 0x1cb935b1820>"
      ]
     },
     "execution_count": 8,
     "metadata": {},
     "output_type": "execute_result"
    },
    {
     "data": {
      "image/png": "[encoded data removed]",
      "text/plain": [
       "<Figure size 432x288 with 1 Axes>"
      ]
     },
     "metadata": {
      "needs_background": "light"
     },
     "output_type": "display_data"
    }
   ],
   "source": [
    "data[\"Is_Lead\"].value_counts().plot.barh()"
   ]
  },
  {
   "cell_type": "code",
   "execution_count": 9,
   "metadata": {},
   "outputs": [
    {
     "data": {
      "text/plain": [
       "0    187437\n",
       "1     58288\n",
       "Name: Is_Lead, dtype: int64"
      ]
     },
     "execution_count": 9,
     "metadata": {},
     "output_type": "execute_result"
    }
   ],
   "source": [
    "data.Is_Lead.value_counts()"
   ]
  },
  {
   "cell_type": "markdown",
   "metadata": {},
   "source": [
    "#### Data transformations"
   ]
  },
  {
   "cell_type": "code",
   "execution_count": 10,
   "metadata": {},
   "outputs": [],
   "source": [
    "def data_pipeline(dataset):\n",
    "    \"\"\"\n",
    "    Applies the data transformations to be done on the input dataset\n",
    "    \n",
    "    Parameters\n",
    "    ----------\n",
    "    dataset: pandas.DataFrane\n",
    "        input dataset\n",
    "    \n",
    "    Returns\n",
    "    -------\n",
    "    data: pandas.DataFrame\n",
    "        pandas dataframe after applying data tranformations on the input data\n",
    "    \"\"\"\n",
    "    data = dataset.copy()\n",
    "    data.loc[data[\"Credit_Product\"].isnull(), \"Credit\"] = \"Unknown\"\n",
    "    data = pd.get_dummies(data)\n",
    "    return data\n",
    "    "
   ]
  },
  {
   "cell_type": "code",
   "execution_count": 11,
   "metadata": {},
   "outputs": [],
   "source": [
    "train_labels = data.Is_Lead\n",
    "data = data.drop(columns=[\"Is_Lead\", \"ID\"])"
   ]
  },
  {
   "cell_type": "code",
   "execution_count": 12,
   "metadata": {},
   "outputs": [],
   "source": [
    "data = data_pipeline(data)"
   ]
  },
  {
   "cell_type": "code",
   "execution_count": 13,
   "metadata": {},
   "outputs": [],
   "source": [
    "x_train, x_test, y_train, y_test = train_test_split(data, train_labels, train_size = .7)"
   ]
  },
  {
   "cell_type": "code",
   "execution_count": 14,
   "metadata": {},
   "outputs": [],
   "source": [
    "# Setting the model parameters\n",
    "model_parameters = dict(booster=\"gbtree\",\n",
    "                        eval_metric='auc',\n",
    "                        base_score= .2,\n",
    "                        max_depth=9,\n",
    "                        eta=0.19,\n",
    "                        gamma=1,\n",
    "                        min_child_weight=1,\n",
    "                        subsample=.35,\n",
    "                        colsample_bytree=.7,\n",
    "                        n_estimators=10,\n",
    "                        scale_pos_weight=.4,\n",
    "                        reg_alpha=0.1)"
   ]
  },
  {
   "cell_type": "code",
   "execution_count": 15,
   "metadata": {},
   "outputs": [],
   "source": [
    "xgb_reg = xgb.XGBClassifier(**model_parameters,\n",
    "                            objective='binary:logistic',\n",
    "                            enable_categorical = True,\n",
    "                            verbosity=0,\n",
    "                            use_label_encoder=False)"
   ]
  },
  {
   "cell_type": "markdown",
   "metadata": {},
   "source": [
    "#### Training the model"
   ]
  },
  {
   "cell_type": "code",
   "execution_count": 16,
   "metadata": {},
   "outputs": [
    {
     "name": "stderr",
     "output_type": "stream",
     "text": [
      "INFO:root:Training Model .. \n"
     ]
    },
    {
     "data": {
      "text/plain": [
       "XGBClassifier(base_score=0.2, booster='gbtree', colsample_bylevel=1,\n",
       "              colsample_bynode=1, colsample_bytree=0.7, enable_categorical=True,\n",
       "              eta=0.19, eval_metric='auc', gamma=1, gpu_id=-1,\n",
       "              importance_type='gain', interaction_constraints='',\n",
       "              learning_rate=0.189999998, max_delta_step=0, max_depth=9,\n",
       "              min_child_weight=1, missing=nan, monotone_constraints='()',\n",
       "              n_estimators=10, n_jobs=8, num_parallel_tree=1, random_state=0,\n",
       "              reg_alpha=0.1, reg_lambda=1, scale_pos_weight=0.4, subsample=0.35,\n",
       "              tree_method='exact', use_label_encoder=False,\n",
       "              validate_parameters=1, verbosity=0)"
      ]
     },
     "execution_count": 16,
     "metadata": {},
     "output_type": "execute_result"
    }
   ],
   "source": [
    "# Taining the model\n",
    "logging.info('Training Model .. ')\n",
    "xgb_reg.fit(x_train, y_train, eval_set=[(x_train, y_train),( x_test,y_test)], verbose=False)"
   ]
  },
  {
   "cell_type": "code",
   "execution_count": 17,
   "metadata": {},
   "outputs": [
    {
     "name": "stdout",
     "output_type": "stream",
     "text": [
      "[('Region_Code_RG258', 0.9047037773333333),\n",
      " ('Region_Code_RG275', 1.0859565745),\n",
      " ('Region_Code_RG252', 1.22568321),\n",
      " ('Region_Code_RG264', 1.22634888),\n",
      " ('Region_Code_RG253', 1.36661148),\n",
      " ('Region_Code_RG251', 1.440788664),\n",
      " ('Region_Code_RG272', 1.4917176730000001),\n",
      " ('Region_Code_RG259', 1.4962752198571427),\n",
      " ('Region_Code_RG256', 1.55484009),\n",
      " ('Region_Code_RG274', 1.6045305238),\n",
      " ('Region_Code_RG277', 1.6275662981750003),\n",
      " ('Region_Code_RG284', 1.7143884754705883),\n",
      " ('Region_Code_RG250', 1.7488880150000001),\n",
      " ('Region_Code_RG278', 1.75302887),\n",
      " ('Region_Code_RG254', 1.7759899891090911),\n",
      " ('Region_Code_RG263', 1.8209781314285713),\n",
      " ('Region_Code_RG268', 1.844553373551724),\n",
      " ('Region_Code_RG279', 1.925091412),\n",
      " ('Region_Code_RG276', 1.9640019733333334),\n",
      " ('Region_Code_RG266', 1.9655418399999998),\n",
      " ('Region_Code_RG261', 1.9795155519999998),\n",
      " ('Region_Code_RG280', 1.9979266008461538),\n",
      " ('Region_Code_RG255', 2.0004188233333333),\n",
      " ('Region_Code_RG260', 2.06897545),\n",
      " ('Avg_Account_Balance', 2.150205758239736),\n",
      " ('Region_Code_RG270', 2.212835946666667),\n",
      " ('Region_Code_RG283', 2.225646086789474),\n",
      " ('Gender_Female', 2.243031347266667),\n",
      " ('Region_Code_RG282', 2.277141077142857),\n",
      " ('Region_Code_RG257', 2.3167707394444443),\n",
      " ('Region_Code_RG273', 2.3555917733333334),\n",
      " ('Channel_Code_X3', 2.361904068214286),\n",
      " ('Region_Code_RG265', 2.36385536),\n",
      " ('Region_Code_RG271', 2.548454618),\n",
      " ('Gender_Male', 2.6918917533333335),\n",
      " ('Region_Code_RG269', 2.7025270890909088),\n",
      " ('Region_Code_RG281', 2.7958323149999997),\n",
      " ('Channel_Code_X4', 3.3761002999999996),\n",
      " ('Region_Code_RG267', 4.72092438),\n",
      " ('Channel_Code_X2', 5.799456585555557),\n",
      " ('Occupation_Self_Employed', 8.450295779384616),\n",
      " ('Age', 11.174400307090004),\n",
      " ('Vintage', 11.21932438707308),\n",
      " ('Occupation_Entrepreneur', 16.305778745555553),\n",
      " ('Channel_Code_X1', 17.85520998744),\n",
      " ('Is_Active_Yes', 20.118726120714285),\n",
      " ('Is_Active_No', 20.895862560827585),\n",
      " ('Occupation_Other', 21.971926983513523),\n",
      " ('Occupation_Salaried', 30.04118023284),\n",
      " ('Credit_Product_Yes', 807.2951036000001),\n",
      " ('Credit_Product_No', 1335.24718525),\n",
      " ('Credit_Unknown', 2807.34591225)]\n"
     ]
    }
   ],
   "source": [
    "# Finding the variables contributing towards the models accuracy\n",
    "scores = xgb_reg.get_booster().get_score(importance_type=\"gain\")\n",
    "pprint(sorted(scores.items(),key=lambda x: x[1]))"
   ]
  },
  {
   "cell_type": "markdown",
   "metadata": {},
   "source": [
    "#### Assesing accuracy metrics"
   ]
  },
  {
   "cell_type": "code",
   "execution_count": 18,
   "metadata": {},
   "outputs": [],
   "source": [
    "# making predictions on the train dataset using the model\n",
    "train_predictions = xgb_reg.predict(x_train)\n",
    "train_predprob = xgb_reg.predict_proba(x_train)[:, 1]"
   ]
  },
  {
   "cell_type": "code",
   "execution_count": 19,
   "metadata": {},
   "outputs": [
    {
     "name": "stderr",
     "output_type": "stream",
     "text": [
      "INFO:root:Model Report : Train Data\n",
      "INFO:root:Accuracy : 0.8549\n",
      "INFO:root:AUC Score (Train): 0.876259\n"
     ]
    }
   ],
   "source": [
    "# Assesing the accuracy and AUC score of the model on train data\n",
    "logging.info(\"Model Report : Train Data\")\n",
    "logging.info(\"Accuracy : %.4g\" % metrics.accuracy_score(y_train.values, train_predictions))\n",
    "logging.info(\"AUC Score (Train): %f\" % metrics.roc_auc_score(y_train, train_predprob))"
   ]
  },
  {
   "cell_type": "code",
   "execution_count": 20,
   "metadata": {},
   "outputs": [],
   "source": [
    "# Making prediction on hte test dataset using the model\n",
    "test_predictions = xgb_reg.predict(x_test)\n",
    "test_predprob = xgb_reg.predict_proba(x_test)[:, 1]"
   ]
  },
  {
   "cell_type": "code",
   "execution_count": 21,
   "metadata": {},
   "outputs": [
    {
     "name": "stderr",
     "output_type": "stream",
     "text": [
      "INFO:root:Model Report : Test Data\n",
      "INFO:root:Accuracy : 0.8545\n",
      "INFO:root:AUC Score (Test): 0.872748\n"
     ]
    }
   ],
   "source": [
    "# Assesing the accuracy and AUC score of the model on test data\n",
    "logging.info(\"Model Report : Test Data\")\n",
    "logging.info(\"Accuracy : %.4g\" % metrics.accuracy_score(y_test.values, test_predictions))\n",
    "logging.info(\"AUC Score (Test): %f\" % metrics.roc_auc_score(y_test, test_predprob))"
   ]
  },
  {
   "cell_type": "code",
   "execution_count": 22,
   "metadata": {},
   "outputs": [
    {
     "name": "stderr",
     "output_type": "stream",
     "text": [
      "INFO:root:ppv :0.8574201898188093\n",
      "INFO:root:npv :0.8540638674238897\n"
     ]
    }
   ],
   "source": [
    "# Assesing the PPV and NPV of the model\n",
    "\n",
    "confusion_mx = metrics.confusion_matrix(y_test.values, test_predictions)\n",
    "TN = confusion_mx[0][0]\n",
    "FN = confusion_mx[1][0]\n",
    "TP = confusion_mx[1][1]\n",
    "FP = confusion_mx[0][1]\n",
    "\n",
    "# Positive predictive value\n",
    "PPV = TP / (TP + FP)\n",
    "# Negative predictive value\n",
    "NPV = TN / (TN + FN)\n",
    "\n",
    "logging.info(\"ppv :{}\".format(PPV))\n",
    "logging.info(\"npv :{}\".format(NPV))"
   ]
  },
  {
   "cell_type": "markdown",
   "metadata": {},
   "source": [
    "#### Predicting on the test data provided"
   ]
  },
  {
   "cell_type": "code",
   "execution_count": 23,
   "metadata": {},
   "outputs": [],
   "source": [
    "submission = pd.DataFrame()\n",
    "submission[\"ID\"] = submission_data[\"ID\"]\n",
    "submission_data = submission_data.drop(columns=[\"ID\"])"
   ]
  },
  {
   "cell_type": "code",
   "execution_count": 24,
   "metadata": {},
   "outputs": [],
   "source": [
    "# Apllying data transformations on test data\n",
    "test_data = data_pipeline(submission_data)"
   ]
  },
  {
   "cell_type": "code",
   "execution_count": 25,
   "metadata": {},
   "outputs": [],
   "source": [
    "# Predicting on the test data using the model\n",
    "predictions = xgb_reg.predict_proba(test_data)[:, 1]"
   ]
  },
  {
   "cell_type": "code",
   "execution_count": 26,
   "metadata": {},
   "outputs": [],
   "source": [
    "submission[\"Is_Lead\"] = predictions"
   ]
  },
  {
   "cell_type": "code",
   "execution_count": 27,
   "metadata": {},
   "outputs": [
    {
     "data": {
      "text/html": [
       "<div>\n",
       "<style scoped>\n",
       "    .dataframe tbody tr th:only-of-type {\n",
       "        vertical-align: middle;\n",
       "    }\n",
       "\n",
       "    .dataframe tbody tr th {\n",
       "        vertical-align: top;\n",
       "    }\n",
       "\n",
       "    .dataframe thead th {\n",
       "        text-align: right;\n",
       "    }\n",
       "</style>\n",
       "<table border=\"1\" class=\"dataframe\">\n",
       "  <thead>\n",
       "    <tr style=\"text-align: right;\">\n",
       "      <th></th>\n",
       "      <th>ID</th>\n",
       "      <th>Is_Lead</th>\n",
       "    </tr>\n",
       "  </thead>\n",
       "  <tbody>\n",
       "    <tr>\n",
       "      <th>0</th>\n",
       "      <td>VBENBARO</td>\n",
       "      <td>0.050200</td>\n",
       "    </tr>\n",
       "    <tr>\n",
       "      <th>1</th>\n",
       "      <td>CCMEWNKY</td>\n",
       "      <td>0.651145</td>\n",
       "    </tr>\n",
       "    <tr>\n",
       "      <th>2</th>\n",
       "      <td>VK3KGA9M</td>\n",
       "      <td>0.046933</td>\n",
       "    </tr>\n",
       "    <tr>\n",
       "      <th>3</th>\n",
       "      <td>TT8RPZVC</td>\n",
       "      <td>0.038897</td>\n",
       "    </tr>\n",
       "    <tr>\n",
       "      <th>4</th>\n",
       "      <td>SHQZEYTZ</td>\n",
       "      <td>0.038897</td>\n",
       "    </tr>\n",
       "  </tbody>\n",
       "</table>\n",
       "</div>"
      ],
      "text/plain": [
       "         ID   Is_Lead\n",
       "0  VBENBARO  0.050200\n",
       "1  CCMEWNKY  0.651145\n",
       "2  VK3KGA9M  0.046933\n",
       "3  TT8RPZVC  0.038897\n",
       "4  SHQZEYTZ  0.038897"
      ]
     },
     "execution_count": 27,
     "metadata": {},
     "output_type": "execute_result"
    }
   ],
   "source": [
    "submission.head()"
   ]
  },
  {
   "cell_type": "code",
   "execution_count": 28,
   "metadata": {},
   "outputs": [],
   "source": [
    "# Writing the results of prediction into a csv file\n",
    "submission.to_csv('submission.csv',index= False)"
   ]
  },
  {
   "cell_type": "code",
   "execution_count": null,
   "metadata": {},
   "outputs": [],
   "source": []
  }
 ],
 "metadata": {
  "kernelspec": {
   "display_name": "Python 3",
   "language": "python",
   "name": "python3"
  },
  "language_info": {
   "codemirror_mode": {
    "name": "ipython",
    "version": 3
   },
   "file_extension": ".py",
   "mimetype": "text/x-python",
   "name": "python",
   "nbconvert_exporter": "python",
   "pygments_lexer": "ipython3",
   "version": "3.8.3"
  }
 },
 "nbformat": 4,
 "nbformat_minor": 4
}
